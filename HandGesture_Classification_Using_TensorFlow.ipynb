{
  "nbformat": 4,
  "nbformat_minor": 0,
  "metadata": {
    "colab": {
      "name": "HandGesture_Classification_Using_TensorFlow.ipynb",
      "provenance": [],
      "include_colab_link": true
    },
    "kernelspec": {
      "name": "python3",
      "display_name": "Python 3"
    }
  },
  "cells": [
    {
      "cell_type": "markdown",
      "metadata": {
        "id": "view-in-github",
        "colab_type": "text"
      },
      "source": [
        "<a href=\"https://colab.research.google.com/github/hanifabd/HandGesture-Classification-Using-TensorFlow/blob/main/HandGesture_Classification_Using_TensorFlow.ipynb\" target=\"_parent\"><img src=\"https://colab.research.google.com/assets/colab-badge.svg\" alt=\"Open In Colab\"/></a>"
      ]
    },
    {
      "cell_type": "code",
      "metadata": {
        "id": "3h_LswvpVZyr"
      },
      "source": [
        "# Hanif Yuli Abdillah P\n",
        "# hanifabd23@gmail.com"
      ],
      "execution_count": null,
      "outputs": []
    },
    {
      "cell_type": "code",
      "metadata": {
        "id": "60CfIOCM5VI-"
      },
      "source": [
        "import tensorflow as tf\n",
        "import matplotlib.pyplot as plt\n",
        "import matplotlib.image as mpimg\n",
        "import numpy as np\n",
        "import time\n",
        "from tensorflow.keras.optimizers import RMSprop\n",
        "from tensorflow.keras.preprocessing.image import ImageDataGenerator\n",
        "from keras.callbacks import ReduceLROnPlateau, ModelCheckpoint\n",
        "from keras.preprocessing import image\n",
        "from sklearn.metrics import classification_report, confusion_matrix\n",
        "from keras import backend as K"
      ],
      "execution_count": null,
      "outputs": []
    },
    {
      "cell_type": "code",
      "metadata": {
        "id": "_zO2jAom5mVP",
        "outputId": "a0f6a2e3-9dba-48d5-fd69-7f9b77075df8",
        "colab": {
          "base_uri": "https://localhost:8080/",
          "height": 216
        }
      },
      "source": [
        "!wget --no-check-certificate \\\n",
        "  https://dicodingacademy.blob.core.windows.net/picodiploma/ml_pemula_academy/rockpaperscissors.zip \\\n",
        "  -O /tmp/rockpaperscissors.zip"
      ],
      "execution_count": null,
      "outputs": [
        {
          "output_type": "stream",
          "text": [
            "--2020-10-08 13:12:36--  https://dicodingacademy.blob.core.windows.net/picodiploma/ml_pemula_academy/rockpaperscissors.zip\n",
            "Resolving dicodingacademy.blob.core.windows.net (dicodingacademy.blob.core.windows.net)... 52.239.197.36\n",
            "Connecting to dicodingacademy.blob.core.windows.net (dicodingacademy.blob.core.windows.net)|52.239.197.36|:443... connected.\n",
            "HTTP request sent, awaiting response... 200 OK\n",
            "Length: 322873683 (308M) [application/zip]\n",
            "Saving to: ‘/tmp/rockpaperscissors.zip’\n",
            "\n",
            "/tmp/rockpapersciss 100%[===================>] 307.92M  9.67MB/s    in 39s     \n",
            "\n",
            "2020-10-08 13:13:16 (7.99 MB/s) - ‘/tmp/rockpaperscissors.zip’ saved [322873683/322873683]\n",
            "\n"
          ],
          "name": "stdout"
        }
      ]
    },
    {
      "cell_type": "code",
      "metadata": {
        "id": "lAI3P8865zhG"
      },
      "source": [
        "# melakukan ekstraksi pada file zip\n",
        "import zipfile,os\n",
        "local_zip = '/tmp/rockpaperscissors.zip'\n",
        "zip_ref = zipfile.ZipFile(local_zip, 'r')\n",
        "zip_ref.extractall('/tmp')\n",
        "zip_ref.close()\n",
        "\n",
        "data_dir = '/tmp/rockpaperscissors/rps-cv-images'"
      ],
      "execution_count": null,
      "outputs": []
    },
    {
      "cell_type": "code",
      "metadata": {
        "id": "QBCkh8MRCLK9",
        "outputId": "311f396e-ff23-4a91-d53c-bacbfcdd816f",
        "colab": {
          "base_uri": "https://localhost:8080/",
          "height": 50
        }
      },
      "source": [
        "train_datagen = ImageDataGenerator( \n",
        "    rescale = 1./255,\n",
        "    rotation_range=20,\n",
        "    horizontal_flip=True,\n",
        "    shear_range=0.2,\n",
        "    fill_mode='nearest',\n",
        "    width_shift_range=0.2,\n",
        "    height_shift_range=0.2,\n",
        "    zoom_range=0.2,\n",
        "    validation_split=0.4\n",
        "    )\n",
        "\n",
        "validation_datagen = ImageDataGenerator(\n",
        "    rescale = 1./255,\n",
        "    validation_split=0.4\n",
        "    )\n",
        "\n",
        "train_generator = train_datagen.flow_from_directory(\n",
        "    data_dir,\n",
        "    batch_size=32,\n",
        "    class_mode='categorical',\n",
        "    target_size=(40, 60),\n",
        "    subset='training'\n",
        "    )\n",
        "\n",
        "validation_generator = validation_datagen.flow_from_directory(\n",
        "    data_dir,\n",
        "    batch_size=32,\n",
        "    class_mode='categorical',\n",
        "    target_size=(40, 60),\n",
        "    subset='validation'\n",
        "    )"
      ],
      "execution_count": null,
      "outputs": [
        {
          "output_type": "stream",
          "text": [
            "Found 1314 images belonging to 3 classes.\n",
            "Found 874 images belonging to 3 classes.\n"
          ],
          "name": "stdout"
        }
      ]
    },
    {
      "cell_type": "code",
      "metadata": {
        "id": "DrCC8aVVFRCn"
      },
      "source": [
        "model = tf.keras.models.Sequential([\n",
        "    tf.keras.layers.Conv2D(64, (5,5), activation='relu', input_shape=(40, 60, 3)),\n",
        "    tf.keras.layers.BatchNormalization(),\n",
        "    tf.keras.layers.Conv2D(64, (3,3), activation='relu', padding='Same'),\n",
        "    tf.keras.layers.MaxPooling2D(2,2),\n",
        "    tf.keras.layers.Conv2D(128, (3,3), activation='relu', padding='Same'),\n",
        "    tf.keras.layers.MaxPooling2D(2,2),\n",
        "    tf.keras.layers.Flatten(),\n",
        "    tf.keras.layers.Dense(256, activation='relu'),\n",
        "    tf.keras.layers.Dense(3, activation='softmax')\n",
        "])"
      ],
      "execution_count": null,
      "outputs": []
    },
    {
      "cell_type": "code",
      "metadata": {
        "id": "_ulyOxulHRVS",
        "outputId": "225ad5cb-3a58-4ec2-d185-f7baade2f688",
        "colab": {
          "base_uri": "https://localhost:8080/",
          "height": 440
        }
      },
      "source": [
        "model.summary()"
      ],
      "execution_count": null,
      "outputs": [
        {
          "output_type": "stream",
          "text": [
            "Model: \"sequential\"\n",
            "_________________________________________________________________\n",
            "Layer (type)                 Output Shape              Param #   \n",
            "=================================================================\n",
            "conv2d (Conv2D)              (None, 36, 56, 64)        4864      \n",
            "_________________________________________________________________\n",
            "batch_normalization (BatchNo (None, 36, 56, 64)        256       \n",
            "_________________________________________________________________\n",
            "conv2d_1 (Conv2D)            (None, 36, 56, 64)        36928     \n",
            "_________________________________________________________________\n",
            "max_pooling2d (MaxPooling2D) (None, 18, 28, 64)        0         \n",
            "_________________________________________________________________\n",
            "conv2d_2 (Conv2D)            (None, 18, 28, 128)       73856     \n",
            "_________________________________________________________________\n",
            "max_pooling2d_1 (MaxPooling2 (None, 9, 14, 128)        0         \n",
            "_________________________________________________________________\n",
            "flatten (Flatten)            (None, 16128)             0         \n",
            "_________________________________________________________________\n",
            "dense (Dense)                (None, 256)               4129024   \n",
            "_________________________________________________________________\n",
            "dense_1 (Dense)              (None, 3)                 771       \n",
            "=================================================================\n",
            "Total params: 4,245,699\n",
            "Trainable params: 4,245,571\n",
            "Non-trainable params: 128\n",
            "_________________________________________________________________\n"
          ],
          "name": "stdout"
        }
      ]
    },
    {
      "cell_type": "code",
      "metadata": {
        "id": "OyDDLldn-Yb9"
      },
      "source": [
        "def f1(y_true, y_pred):\n",
        "    def recall(y_true, y_pred):\n",
        "        \"\"\"Recall metric.\n",
        "\n",
        "        Only computes a batch-wise average of recall.\n",
        "\n",
        "        Computes the recall, a metric for multi-label classification of\n",
        "        how many relevant items are selected.\n",
        "        \"\"\"\n",
        "        true_positives = K.sum(K.round(K.clip(y_true * y_pred, 0, 1)))\n",
        "        possible_positives = K.sum(K.round(K.clip(y_true, 0, 1)))\n",
        "        recall = true_positives / (possible_positives + K.epsilon())\n",
        "        return recall\n",
        "\n",
        "    def precision(y_true, y_pred):\n",
        "        \"\"\"Precision metric.\n",
        "\n",
        "        Only computes a batch-wise average of precision.\n",
        "\n",
        "        Computes the precision, a metric for multi-label classification of\n",
        "        how many selected items are relevant.\n",
        "        \"\"\"\n",
        "        true_positives = K.sum(K.round(K.clip(y_true * y_pred, 0, 1)))\n",
        "        predicted_positives = K.sum(K.round(K.clip(y_pred, 0, 1)))\n",
        "        precision = true_positives / (predicted_positives + K.epsilon())\n",
        "        return precision\n",
        "    precision = precision(y_true, y_pred)\n",
        "    recall = recall(y_true, y_pred)\n",
        "    return 2*((precision*recall)/(precision+recall+K.epsilon()))"
      ],
      "execution_count": null,
      "outputs": []
    },
    {
      "cell_type": "code",
      "metadata": {
        "id": "1d0vYhJsHdus"
      },
      "source": [
        "model.compile(\n",
        "    loss='categorical_crossentropy', \n",
        "    optimizer='adam', \n",
        "    metrics=['accuracy', f1]\n",
        "    )"
      ],
      "execution_count": null,
      "outputs": []
    },
    {
      "cell_type": "code",
      "metadata": {
        "id": "oOfcj0qbdSTM"
      },
      "source": [
        "saved_model = 'best_model.h5'\n",
        "\n",
        "checkpoint_callback = ModelCheckpoint(\n",
        "    saved_model,\n",
        "    monitor='val_accuracy',\n",
        "    save_best_only=True,\n",
        "    verbose=1)\n",
        "\n",
        "reduce_callback = ReduceLROnPlateau(\n",
        "    monitor='val_accuracy',\n",
        "    patience=2,\n",
        "    factor=0.5,\n",
        "    min_lr=0.000003,\n",
        "    verbose=1)"
      ],
      "execution_count": null,
      "outputs": []
    },
    {
      "cell_type": "code",
      "metadata": {
        "id": "a_yBcUXbHl5X",
        "outputId": "fb7347ba-ec2a-4cbd-806e-085d581d078e",
        "colab": {
          "base_uri": "https://localhost:8080/",
          "height": 1000
        }
      },
      "source": [
        "startAt = time.time()\n",
        "model_history = model.fit(\n",
        "    train_generator,\n",
        "    validation_data = validation_generator,\n",
        "    epochs = 25,\n",
        "    batch_size=32,\n",
        "    verbose = 2,\n",
        "    callbacks=[checkpoint_callback,reduce_callback],\n",
        ")\n",
        "endAt = time.time()"
      ],
      "execution_count": null,
      "outputs": [
        {
          "output_type": "stream",
          "text": [
            "Epoch 1/25\n",
            "\n",
            "Epoch 00001: val_accuracy improved from -inf to 0.59840, saving model to best_model.h5\n",
            "42/42 - 35s - loss: 1.3493 - accuracy: 0.4528 - f1: 0.2485 - val_loss: 1.0796 - val_accuracy: 0.5984 - val_f1: 0.0000e+00\n",
            "Epoch 2/25\n",
            "\n",
            "Epoch 00002: val_accuracy did not improve from 0.59840\n",
            "42/42 - 34s - loss: 0.6625 - accuracy: 0.7428 - f1: 0.7199 - val_loss: 1.0903 - val_accuracy: 0.3318 - val_f1: 0.3403\n",
            "Epoch 3/25\n",
            "\n",
            "Epoch 00003: val_accuracy improved from 0.59840 to 0.85011, saving model to best_model.h5\n",
            "42/42 - 34s - loss: 0.3539 - accuracy: 0.8661 - f1: 0.8653 - val_loss: 0.6981 - val_accuracy: 0.8501 - val_f1: 0.6985\n",
            "Epoch 4/25\n",
            "\n",
            "Epoch 00004: val_accuracy improved from 0.85011 to 0.86613, saving model to best_model.h5\n",
            "42/42 - 34s - loss: 0.2276 - accuracy: 0.9186 - f1: 0.9194 - val_loss: 0.6136 - val_accuracy: 0.8661 - val_f1: 0.7826\n",
            "Epoch 5/25\n",
            "\n",
            "Epoch 00005: val_accuracy improved from 0.86613 to 0.91419, saving model to best_model.h5\n",
            "42/42 - 34s - loss: 0.1905 - accuracy: 0.9323 - f1: 0.9351 - val_loss: 0.4388 - val_accuracy: 0.9142 - val_f1: 0.8925\n",
            "Epoch 6/25\n",
            "\n",
            "Epoch 00006: val_accuracy improved from 0.91419 to 0.95309, saving model to best_model.h5\n",
            "42/42 - 34s - loss: 0.1615 - accuracy: 0.9581 - f1: 0.9585 - val_loss: 0.3230 - val_accuracy: 0.9531 - val_f1: 0.9520\n",
            "Epoch 7/25\n",
            "\n",
            "Epoch 00007: val_accuracy did not improve from 0.95309\n",
            "42/42 - 34s - loss: 0.1336 - accuracy: 0.9543 - f1: 0.9567 - val_loss: 0.3223 - val_accuracy: 0.8741 - val_f1: 0.8712\n",
            "Epoch 8/25\n",
            "\n",
            "Epoch 00008: val_accuracy improved from 0.95309 to 0.98970, saving model to best_model.h5\n",
            "42/42 - 35s - loss: 0.0900 - accuracy: 0.9718 - f1: 0.9728 - val_loss: 0.1064 - val_accuracy: 0.9897 - val_f1: 0.9899\n",
            "Epoch 9/25\n",
            "\n",
            "Epoch 00009: val_accuracy did not improve from 0.98970\n",
            "42/42 - 34s - loss: 0.1035 - accuracy: 0.9642 - f1: 0.9653 - val_loss: 0.1242 - val_accuracy: 0.9714 - val_f1: 0.9733\n",
            "Epoch 10/25\n",
            "\n",
            "Epoch 00010: val_accuracy did not improve from 0.98970\n",
            "\n",
            "Epoch 00010: ReduceLROnPlateau reducing learning rate to 0.0005000000237487257.\n",
            "42/42 - 34s - loss: 0.1290 - accuracy: 0.9559 - f1: 0.9567 - val_loss: 0.1546 - val_accuracy: 0.9416 - val_f1: 0.9416\n",
            "Epoch 11/25\n",
            "\n",
            "Epoch 00011: val_accuracy did not improve from 0.98970\n",
            "42/42 - 34s - loss: 0.0694 - accuracy: 0.9772 - f1: 0.9773 - val_loss: 0.0516 - val_accuracy: 0.9783 - val_f1: 0.9798\n",
            "Epoch 12/25\n",
            "\n",
            "Epoch 00012: val_accuracy did not improve from 0.98970\n",
            "\n",
            "Epoch 00012: ReduceLROnPlateau reducing learning rate to 0.0002500000118743628.\n",
            "42/42 - 34s - loss: 0.0576 - accuracy: 0.9810 - f1: 0.9818 - val_loss: 0.1843 - val_accuracy: 0.9302 - val_f1: 0.9334\n",
            "Epoch 13/25\n",
            "\n",
            "Epoch 00013: val_accuracy improved from 0.98970 to 0.99314, saving model to best_model.h5\n",
            "42/42 - 34s - loss: 0.0460 - accuracy: 0.9840 - f1: 0.9862 - val_loss: 0.0280 - val_accuracy: 0.9931 - val_f1: 0.9939\n",
            "Epoch 14/25\n",
            "\n",
            "Epoch 00014: val_accuracy did not improve from 0.99314\n",
            "42/42 - 34s - loss: 0.0428 - accuracy: 0.9893 - f1: 0.9896 - val_loss: 0.0303 - val_accuracy: 0.9931 - val_f1: 0.9927\n",
            "Epoch 15/25\n",
            "\n",
            "Epoch 00015: val_accuracy improved from 0.99314 to 0.99771, saving model to best_model.h5\n",
            "42/42 - 34s - loss: 0.0376 - accuracy: 0.9909 - f1: 0.9911 - val_loss: 0.0146 - val_accuracy: 0.9977 - val_f1: 0.9978\n",
            "Epoch 16/25\n",
            "\n",
            "Epoch 00016: val_accuracy did not improve from 0.99771\n",
            "42/42 - 34s - loss: 0.0510 - accuracy: 0.9833 - f1: 0.9824 - val_loss: 0.0154 - val_accuracy: 0.9966 - val_f1: 0.9967\n",
            "Epoch 17/25\n",
            "\n",
            "Epoch 00017: val_accuracy did not improve from 0.99771\n",
            "\n",
            "Epoch 00017: ReduceLROnPlateau reducing learning rate to 0.0001250000059371814.\n",
            "42/42 - 34s - loss: 0.0515 - accuracy: 0.9848 - f1: 0.9839 - val_loss: 0.0260 - val_accuracy: 0.9943 - val_f1: 0.9944\n",
            "Epoch 18/25\n",
            "\n",
            "Epoch 00018: val_accuracy did not improve from 0.99771\n",
            "42/42 - 34s - loss: 0.0372 - accuracy: 0.9878 - f1: 0.9888 - val_loss: 0.0131 - val_accuracy: 0.9966 - val_f1: 0.9967\n",
            "Epoch 19/25\n",
            "\n",
            "Epoch 00019: val_accuracy did not improve from 0.99771\n",
            "\n",
            "Epoch 00019: ReduceLROnPlateau reducing learning rate to 6.25000029685907e-05.\n",
            "42/42 - 34s - loss: 0.0304 - accuracy: 0.9932 - f1: 0.9936 - val_loss: 0.0116 - val_accuracy: 0.9966 - val_f1: 0.9972\n",
            "Epoch 20/25\n",
            "\n",
            "Epoch 00020: val_accuracy did not improve from 0.99771\n",
            "42/42 - 34s - loss: 0.0413 - accuracy: 0.9863 - f1: 0.9870 - val_loss: 0.0198 - val_accuracy: 0.9931 - val_f1: 0.9933\n",
            "Epoch 21/25\n",
            "\n",
            "Epoch 00021: val_accuracy did not improve from 0.99771\n",
            "\n",
            "Epoch 00021: ReduceLROnPlateau reducing learning rate to 3.125000148429535e-05.\n",
            "42/42 - 35s - loss: 0.0444 - accuracy: 0.9871 - f1: 0.9870 - val_loss: 0.0159 - val_accuracy: 0.9954 - val_f1: 0.9955\n",
            "Epoch 22/25\n",
            "\n",
            "Epoch 00022: val_accuracy did not improve from 0.99771\n",
            "42/42 - 34s - loss: 0.0369 - accuracy: 0.9863 - f1: 0.9873 - val_loss: 0.0178 - val_accuracy: 0.9943 - val_f1: 0.9944\n",
            "Epoch 23/25\n",
            "\n",
            "Epoch 00023: val_accuracy did not improve from 0.99771\n",
            "\n",
            "Epoch 00023: ReduceLROnPlateau reducing learning rate to 1.5625000742147677e-05.\n",
            "42/42 - 34s - loss: 0.0300 - accuracy: 0.9901 - f1: 0.9903 - val_loss: 0.0092 - val_accuracy: 0.9977 - val_f1: 0.9978\n",
            "Epoch 24/25\n",
            "\n",
            "Epoch 00024: val_accuracy did not improve from 0.99771\n",
            "42/42 - 34s - loss: 0.0307 - accuracy: 0.9924 - f1: 0.9922 - val_loss: 0.0124 - val_accuracy: 0.9977 - val_f1: 0.9978\n",
            "Epoch 25/25\n",
            "\n",
            "Epoch 00025: val_accuracy did not improve from 0.99771\n",
            "\n",
            "Epoch 00025: ReduceLROnPlateau reducing learning rate to 7.812500371073838e-06.\n",
            "42/42 - 34s - loss: 0.0258 - accuracy: 0.9947 - f1: 0.9940 - val_loss: 0.0147 - val_accuracy: 0.9966 - val_f1: 0.9967\n"
          ],
          "name": "stdout"
        }
      ]
    },
    {
      "cell_type": "code",
      "metadata": {
        "id": "lCwI8qf_kmGO",
        "outputId": "aa456906-d8f5-45d2-df30-ee7f760c7178",
        "colab": {
          "base_uri": "https://localhost:8080/",
          "height": 33
        }
      },
      "source": [
        "print('execution time : '+ str((endAt-startAt)/60))"
      ],
      "execution_count": null,
      "outputs": [
        {
          "output_type": "stream",
          "text": [
            "execution time : 14.663206573327383\n"
          ],
          "name": "stdout"
        }
      ]
    },
    {
      "cell_type": "code",
      "metadata": {
        "id": "IErahXe_Ltim",
        "outputId": "a36caf09-0ce4-44a2-a69f-8ef5a1733385",
        "colab": {
          "base_uri": "https://localhost:8080/",
          "height": 393
        }
      },
      "source": [
        "acc = model_history.history['accuracy']\n",
        "val_acc = model_history.history['val_accuracy']\n",
        "loss = model_history.history['loss']\n",
        "val_loss = model_history.history['val_loss']\n",
        "epochs = range(len(acc))\n",
        "\n",
        "fig, ax = plt.subplots(1,2, sharey=True, figsize=(16,8))\n",
        "\n",
        "ax[0].plot(epochs, acc, 'r', label='Training accuracy')\n",
        "ax[0].plot(epochs, val_acc, 'b', label='Validation accuracy')\n",
        "ax[0].set_title('Training and validation accuracy')\n",
        "ax[0].legend()\n",
        "\n",
        "ax[1].plot(epochs, loss, 'r', label='Training Loss')\n",
        "ax[1].plot(epochs, val_loss, 'b', label='Validation Loss')\n",
        "ax[1].set_title('Training and validation loss')\n",
        "ax[1].legend()\n",
        "\n",
        "plt.show()"
      ],
      "execution_count": null,
      "outputs": [
        {
          "output_type": "display_data",
          "data": {
            "image/png": "[encoded data removed]",
            "text/plain": [
              "<Figure size 1152x576 with 2 Axes>"
            ]
          },
          "metadata": {
            "tags": [],
            "needs_background": "light"
          }
        }
      ]
    },
    {
      "cell_type": "code",
      "metadata": {
        "id": "FQrHOX2ZisGA",
        "outputId": "adb92d7d-80ee-437d-b849-c604dc52ba2d",
        "colab": {
          "base_uri": "https://localhost:8080/",
          "height": 102
        }
      },
      "source": [
        "model.load_weights(saved_model)\n",
        "testing_model = model.evaluate_generator(validation_generator, 874 // 32, verbose=1)"
      ],
      "execution_count": null,
      "outputs": [
        {
          "output_type": "stream",
          "text": [
            "WARNING:tensorflow:From <ipython-input-16-ad116702f7cf>:2: Model.evaluate_generator (from tensorflow.python.keras.engine.training) is deprecated and will be removed in a future version.\n",
            "Instructions for updating:\n",
            "Please use Model.evaluate, which supports generators.\n",
            "27/27 [==============================] - 6s 211ms/step - loss: 0.0147 - accuracy: 0.9977 - f1: 0.9977\n"
          ],
          "name": "stdout"
        }
      ]
    },
    {
      "cell_type": "code",
      "metadata": {
        "id": "J87kv_c0jDKB",
        "outputId": "e69f5e12-7e38-4918-80bf-93130f292f66",
        "colab": {
          "base_uri": "https://localhost:8080/",
          "height": 33
        }
      },
      "source": [
        "print('Accuracy on Validation Data: ' + str(int(testing_model[1] * 10000) / 100) + '%')"
      ],
      "execution_count": null,
      "outputs": [
        {
          "output_type": "stream",
          "text": [
            "Accuracy on Validation Data: 99.76%\n"
          ],
          "name": "stdout"
        }
      ]
    },
    {
      "cell_type": "code",
      "metadata": {
        "id": "5CnU3K3NN7aa"
      },
      "source": [
        "# fn = '/tmp/rockpaperscissors/paper/Wcg4nsnlWrhxgyJg.png'\n",
        "# fn = '/tmp/rockpaperscissors/rock/qiysAN26ClLYOZfG.png'\n",
        "fn = '/tmp/rockpaperscissors/scissors/JDuoo6aDjbIAqA4X.png'"
      ],
      "execution_count": null,
      "outputs": []
    },
    {
      "cell_type": "code",
      "metadata": {
        "id": "haW6bEWJO0-n",
        "outputId": "69d889ee-0426-4c3b-c339-ac6aeddb5d3d",
        "colab": {
          "base_uri": "https://localhost:8080/",
          "height": 300
        }
      },
      "source": [
        "# predicting images\n",
        "path = fn\n",
        "img = image.load_img(path, target_size=(40,60))\n",
        "imgplot = plt.imshow(img)\n",
        "x = image.img_to_array(img)\n",
        "x = np.expand_dims(x, axis=0)\n",
        " \n",
        "images = np.vstack([x])\n",
        "classes = model.predict(images, batch_size=32)\n",
        "classes = int(classes.argmax(axis=-1))\n",
        "print(fn)\n",
        "# print(classes)\n",
        "if classes==0:\n",
        "  print('paper')\n",
        "elif classes==1:\n",
        "  print('rock')\n",
        "else:\n",
        "  print('scissors')"
      ],
      "execution_count": null,
      "outputs": [
        {
          "output_type": "stream",
          "text": [
            "/tmp/rockpaperscissors/scissors/JDuoo6aDjbIAqA4X.png\n",
            "scissors\n"
          ],
          "name": "stdout"
        },
        {
          "output_type": "display_data",
          "data": {
            "image/png": "[encoded data removed]",
            "text/plain": [
              "<Figure size 432x288 with 1 Axes>"
            ]
          },
          "metadata": {
            "tags": [],
            "needs_background": "light"
          }
        }
      ]
    }
  ]
}